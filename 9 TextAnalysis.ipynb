{
 "cells": [
  {
   "cell_type": "code",
   "execution_count": 1,
   "id": "7963789b-f392-47b5-bae3-a556bf4c224e",
   "metadata": {},
   "outputs": [],
   "source": [
    "import nltk\n",
    "from nltk.tokenize import word_tokenize\n",
    "from nltk import pos_tag\n",
    "from nltk.corpus import stopwords\n",
    "from nltk.stem import PorterStemmer,WordNetLemmatizer\n",
    "from sklearn.feature_extraction.text import TfidfVectorizer\n",
    "import string  #to filter punctuations"
   ]
  },
  {
   "cell_type": "code",
   "execution_count": 3,
   "id": "b2cb6142-eddb-433e-87aa-bdf183d45b98",
   "metadata": {},
   "outputs": [
    {
     "name": "stderr",
     "output_type": "stream",
     "text": [
      "[nltk_data] Downloading package punkt to\n",
      "[nltk_data]     C:\\Users\\admin\\AppData\\Roaming\\nltk_data...\n",
      "[nltk_data]   Package punkt is already up-to-date!\n",
      "[nltk_data] Downloading package punkt_tab to\n",
      "[nltk_data]     C:\\Users\\admin\\AppData\\Roaming\\nltk_data...\n",
      "[nltk_data]   Unzipping tokenizers\\punkt_tab.zip.\n",
      "[nltk_data] Downloading package averaged_perceptron_tagger to\n",
      "[nltk_data]     C:\\Users\\admin\\AppData\\Roaming\\nltk_data...\n",
      "[nltk_data]   Unzipping taggers\\averaged_perceptron_tagger.zip.\n",
      "[nltk_data] Downloading package averaged_perceptron_tagger_eng to\n",
      "[nltk_data]     C:\\Users\\admin\\AppData\\Roaming\\nltk_data...\n",
      "[nltk_data]   Unzipping taggers\\averaged_perceptron_tagger_eng.zip.\n",
      "[nltk_data] Downloading package stopwords to\n",
      "[nltk_data]     C:\\Users\\admin\\AppData\\Roaming\\nltk_data...\n",
      "[nltk_data]   Unzipping corpora\\stopwords.zip.\n",
      "[nltk_data] Downloading package wordnet to\n",
      "[nltk_data]     C:\\Users\\admin\\AppData\\Roaming\\nltk_data...\n"
     ]
    },
    {
     "data": {
      "text/plain": [
       "True"
      ]
     },
     "execution_count": 3,
     "metadata": {},
     "output_type": "execute_result"
    }
   ],
   "source": [
    "#downloading essentials\n",
    "nltk.download('punkt')\n",
    "nltk.download('punkt_tab') \n",
    "nltk.download('averaged_perceptron_tagger')\n",
    "nltk.download('averaged_perceptron_tagger_eng')\n",
    "nltk.download('stopwords')\n",
    "nltk.download('wordnet')\n",
    "# Downloads language models, stopword lists, and lexical resources required by NLTK."
   ]
  },
  {
   "cell_type": "code",
   "execution_count": 5,
   "id": "68fe444c-0eda-4967-a2d8-2c78c37f5a36",
   "metadata": {},
   "outputs": [],
   "source": [
    "#creating document\n",
    "document = \"Natural Language Processing helps computers understand human language. It includes tasks like text classification, sentiment analysis, and machine translation.\""
   ]
  },
  {
   "cell_type": "code",
   "execution_count": 7,
   "id": "11305590-b911-48a1-ad85-4ce0ced385cf",
   "metadata": {},
   "outputs": [],
   "source": [
    "\n",
    "#converting text into tokens\n",
    "tokens = word_tokenize(document)\n"
   ]
  },
  {
   "cell_type": "code",
   "execution_count": 9,
   "id": "86e9805e-f43f-4501-add9-05a7a09baaf3",
   "metadata": {},
   "outputs": [],
   "source": [
    "# Assigns parts of speech (noun, verb, etc.) to each token.\n",
    "pos_tagging=pos_tag(tokens)"
   ]
  },
  {
   "cell_type": "code",
   "execution_count": 11,
   "id": "7379b6cb-46d0-4124-b982-5f8937fa057b",
   "metadata": {},
   "outputs": [],
   "source": [
    "# Removes common words (like “the”, “is”) and punctuation that don't add much meaning.\n",
    "stop_words=set(stopwords.words('english'))\n",
    "filter_words=[word for word in tokens if word.lower() not in stop_words and word not in string.punctuation]"
   ]
  },
  {
   "cell_type": "code",
   "execution_count": 15,
   "id": "6e58d0fa-eaee-4434-bed8-7b2df852806c",
   "metadata": {},
   "outputs": [],
   "source": [
    "#converting filter words into root wordsReduces words to their base/root form.\n",
    "# Example: “processing” → “process”\n",
    "stemmer=PorterStemmer()\n",
    "stem_tokens=[stemmer.stem(word) for word in filter_words]"
   ]
  },
  {
   "cell_type": "code",
   "execution_count": 19,
   "id": "9ee96dc6-7adb-40a2-921a-b4154b12bfbd",
   "metadata": {},
   "outputs": [],
   "source": [
    "# Similar to stemming but uses dictionary-based correct root words.\n",
    "# Example: “better” → “good”\n",
    "lemmatizer = WordNetLemmatizer()\n",
    "lemmatized_tokens = [lemmatizer.lemmatize(word) for word in filter_words]"
   ]
  },
  {
   "cell_type": "code",
   "execution_count": 21,
   "id": "f8a7a71f-c15d-49e7-bd0b-2dd68027da5f",
   "metadata": {},
   "outputs": [
    {
     "name": "stdout",
     "output_type": "stream",
     "text": [
      "Original Tokens: ['Natural', 'Language', 'Processing', 'helps', 'computers', 'understand', 'human', 'language', '.', 'It', 'includes', 'tasks', 'like', 'text', 'classification', ',', 'sentiment', 'analysis', ',', 'and', 'machine', 'translation', '.']\n",
      "\n",
      "POS Tags: [('Natural', 'JJ'), ('Language', 'NNP'), ('Processing', 'NNP'), ('helps', 'VBZ'), ('computers', 'NNS'), ('understand', 'VBP'), ('human', 'JJ'), ('language', 'NN'), ('.', '.'), ('It', 'PRP'), ('includes', 'VBZ'), ('tasks', 'NNS'), ('like', 'IN'), ('text', 'JJ'), ('classification', 'NN'), (',', ','), ('sentiment', 'NN'), ('analysis', 'NN'), (',', ','), ('and', 'CC'), ('machine', 'NN'), ('translation', 'NN'), ('.', '.')]\n",
      "\n",
      "Filtered Tokens (No Stop Words): ['Natural', 'Language', 'Processing', 'helps', 'computers', 'understand', 'human', 'language', 'includes', 'tasks', 'like', 'text', 'classification', 'sentiment', 'analysis', 'machine', 'translation']\n",
      "\n",
      "Stemmed Tokens: ['natur', 'languag', 'process', 'help', 'comput', 'understand', 'human', 'languag', 'includ', 'task', 'like', 'text', 'classif', 'sentiment', 'analysi', 'machin', 'translat']\n",
      "\n",
      "Lemmatized Tokens: ['Natural', 'Language', 'Processing', 'help', 'computer', 'understand', 'human', 'language', 'includes', 'task', 'like', 'text', 'classification', 'sentiment', 'analysis', 'machine', 'translation']\n",
      "\n"
     ]
    }
   ],
   "source": [
    "\n",
    "print(\"Original Tokens:\", tokens) \n",
    "print()\n",
    "print(\"POS Tags:\", pos_tagging)\n",
    "print()\n",
    "print(\"Filtered Tokens (No Stop Words):\", filter_words)\n",
    "print()\n",
    "print(\"Stemmed Tokens:\", stem_tokens)\n",
    "print()\n",
    "print(\"Lemmatized Tokens:\", lemmatized_tokens)\n",
    "print()"
   ]
  },
  {
   "cell_type": "code",
   "execution_count": 26,
   "id": "43dcb006-6ab7-4594-bcb3-c506aff85df9",
   "metadata": {},
   "outputs": [],
   "source": [
    "documents = [\n",
    "    document,\n",
    "    \"Machine learning is a subfield of artificial intelligence that focuses on building systems that learn from data.\",\n",
    "    \"Text classification is a task in NLP to categorize text into organized groups.\"\n",
    "]"
   ]
  },
  {
   "cell_type": "code",
   "execution_count": 27,
   "id": "0e705ed4-6514-401d-bd4d-d0e928764f3b",
   "metadata": {},
   "outputs": [],
   "source": [
    "#technique to see term frequency and inverse term frequency...how important that term has in the given document\n",
    "vectorizer = TfidfVectorizer()\n",
    "tfidf_matrix = vectorizer.fit_transform(documents)"
   ]
  },
  {
   "cell_type": "code",
   "execution_count": 28,
   "id": "b8e50e6d-00b2-4e7a-ad20-e80da79c4cf4",
   "metadata": {},
   "outputs": [
    {
     "name": "stdout",
     "output_type": "stream",
     "text": [
      "\n",
      "TF-IDF Matrix:\n",
      "[[0.22510195 0.22510195 0.         0.         0.         0.17119583\n",
      "  0.22510195 0.         0.         0.         0.         0.22510195\n",
      "  0.22510195 0.         0.22510195 0.         0.         0.\n",
      "  0.22510195 0.45020389 0.         0.         0.22510195 0.17119583\n",
      "  0.22510195 0.         0.         0.         0.         0.22510195\n",
      "  0.22510195 0.         0.         0.         0.22510195 0.17119583\n",
      "  0.         0.         0.22510195 0.22510195]\n",
      " [0.         0.         0.24142479 0.24142479 0.         0.\n",
      "  0.         0.24142479 0.24142479 0.24142479 0.         0.\n",
      "  0.         0.         0.         0.24142479 0.         0.18360978\n",
      "  0.         0.         0.24142479 0.24142479 0.         0.18360978\n",
      "  0.         0.         0.24142479 0.24142479 0.         0.\n",
      "  0.         0.24142479 0.24142479 0.         0.         0.\n",
      "  0.48284959 0.         0.         0.        ]\n",
      " [0.         0.         0.         0.         0.29526419 0.22455603\n",
      "  0.         0.         0.         0.         0.29526419 0.\n",
      "  0.         0.29526419 0.         0.         0.29526419 0.22455603\n",
      "  0.         0.         0.         0.         0.         0.\n",
      "  0.         0.29526419 0.         0.         0.29526419 0.\n",
      "  0.         0.         0.         0.29526419 0.         0.44911206\n",
      "  0.         0.29526419 0.         0.        ]]\n"
     ]
    }
   ],
   "source": [
    "print(\"\\nTF-IDF Matrix:\")\n",
    "print(tfidf_matrix.toarray())"
   ]
  },
  {
   "cell_type": "code",
   "execution_count": 29,
   "id": "b4e17e5f-8fe4-4e59-890c-dc0923d75c10",
   "metadata": {},
   "outputs": [
    {
     "name": "stdout",
     "output_type": "stream",
     "text": [
      "\n",
      "Feature Names (Vocabulary):\n",
      "['analysis' 'and' 'artificial' 'building' 'categorize' 'classification'\n",
      " 'computers' 'data' 'focuses' 'from' 'groups' 'helps' 'human' 'in'\n",
      " 'includes' 'intelligence' 'into' 'is' 'it' 'language' 'learn' 'learning'\n",
      " 'like' 'machine' 'natural' 'nlp' 'of' 'on' 'organized' 'processing'\n",
      " 'sentiment' 'subfield' 'systems' 'task' 'tasks' 'text' 'that' 'to'\n",
      " 'translation' 'understand']\n"
     ]
    }
   ],
   "source": [
    "print(\"\\nFeature Names (Vocabulary):\")\n",
    "print(vectorizer.get_feature_names_out())\n",
    "# vectorizer.get_feature_names_out() returns the list of all unique words (features) that the vectorizer has learned from the text data."
   ]
  },
  {
   "cell_type": "code",
   "execution_count": null,
   "id": "e185a78d-1a7c-43ca-8b00-f6b4dee18a7d",
   "metadata": {},
   "outputs": [],
   "source": []
  }
 ],
 "metadata": {
  "kernelspec": {
   "display_name": "Python [conda env:base] *",
   "language": "python",
   "name": "conda-base-py"
  },
  "language_info": {
   "codemirror_mode": {
    "name": "ipython",
    "version": 3
   },
   "file_extension": ".py",
   "mimetype": "text/x-python",
   "name": "python",
   "nbconvert_exporter": "python",
   "pygments_lexer": "ipython3",
   "version": "3.12.7"
  }
 },
 "nbformat": 4,
 "nbformat_minor": 5
}
